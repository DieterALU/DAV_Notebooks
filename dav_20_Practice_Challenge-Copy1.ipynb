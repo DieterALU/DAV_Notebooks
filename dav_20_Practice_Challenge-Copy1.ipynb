{
 "cells": [
  {
   "cell_type": "markdown",
   "metadata": {},
   "source": [
    "# <font color='maroon'>Practice Challenge</font>"
   ]
  },
  {
   "cell_type": "markdown",
   "metadata": {},
   "source": [
    "For this notebook, you will be practicing the concepts we have covered in Hypothesis Testing in response to primarily the two prompts presented in the LMS:\n",
    "\n",
    "1. We have data on Bitcoin prices from August to September. Determine the standard deviation  . Use it to calculate the the   confidence interval. Discuss what confidence level you chose, and why? Use simple random sampling to sample from the data set to generate several confidence intervals. Plot these confidence intervals using an error bar plot. Discuss your observations and findings.\n",
    "2. When we have a small sample with standard deviation unknown, we can use a t-test to test our hypothesis about the population. We can estimate the standard deviation from the sample size. So, given that the average life of 6 batteries is 30 months with a standard deviation of 4 months, is a manufacturing exaggerating when he claims the average life of his batteries is 3 years? Use a significance level of 5% to test his claim. "
   ]
  },
  {
   "cell_type": "markdown",
   "metadata": {},
   "source": [
    "### Question 1\n",
    "\n",
    "Load the data on Bitcoin prices from August to September."
   ]
  },
  {
   "cell_type": "code",
   "execution_count": 1,
   "metadata": {},
   "outputs": [],
   "source": [
    "# load your libraries\n",
    "import matplotlib.pyplot as plt\n",
    "import pandas as pd\n",
    "import seaborn as sns\n",
    "import random as rnd\n",
    "import scipy.stats as stats\n",
    "import numpy as np\n",
    "from math import sqrt"
   ]
  },
  {
   "cell_type": "code",
   "execution_count": 2,
   "metadata": {},
   "outputs": [],
   "source": [
    "%matplotlib inline"
   ]
  },
  {
   "cell_type": "code",
   "execution_count": 4,
   "metadata": {},
   "outputs": [],
   "source": [
    "df = pd.read_csv('coindesk-bpi-USD-close_data-2017-11-22_2017-11-23.csv', sep=',', index_col='Date')"
   ]
  },
  {
   "cell_type": "code",
   "execution_count": 5,
   "metadata": {},
   "outputs": [
    {
     "data": {
      "text/html": [
       "<div>\n",
       "<style scoped>\n",
       "    .dataframe tbody tr th:only-of-type {\n",
       "        vertical-align: middle;\n",
       "    }\n",
       "\n",
       "    .dataframe tbody tr th {\n",
       "        vertical-align: top;\n",
       "    }\n",
       "\n",
       "    .dataframe thead th {\n",
       "        text-align: right;\n",
       "    }\n",
       "</style>\n",
       "<table border=\"1\" class=\"dataframe\">\n",
       "  <thead>\n",
       "    <tr style=\"text-align: right;\">\n",
       "      <th></th>\n",
       "      <th>Close Price</th>\n",
       "    </tr>\n",
       "    <tr>\n",
       "      <th>Date</th>\n",
       "      <th></th>\n",
       "    </tr>\n",
       "  </thead>\n",
       "  <tbody>\n",
       "    <tr>\n",
       "      <th>2017-11-23 12:47:00</th>\n",
       "      <td>8169.01</td>\n",
       "    </tr>\n",
       "    <tr>\n",
       "      <th>2017-11-23 12:48:00</th>\n",
       "      <td>8172.60</td>\n",
       "    </tr>\n",
       "    <tr>\n",
       "      <th>2017-11-23 12:49:00</th>\n",
       "      <td>8174.09</td>\n",
       "    </tr>\n",
       "    <tr>\n",
       "      <th>This data was produced from the CoinDesk price page.</th>\n",
       "      <td>NaN</td>\n",
       "    </tr>\n",
       "    <tr>\n",
       "      <th>http://www.coindesk.com/price/</th>\n",
       "      <td>NaN</td>\n",
       "    </tr>\n",
       "  </tbody>\n",
       "</table>\n",
       "</div>"
      ],
      "text/plain": [
       "                                                    Close Price\n",
       "Date                                                           \n",
       "2017-11-23 12:47:00                                     8169.01\n",
       "2017-11-23 12:48:00                                     8172.60\n",
       "2017-11-23 12:49:00                                     8174.09\n",
       "This data was produced from the CoinDesk price ...          NaN\n",
       "http://www.coindesk.com/price/                              NaN"
      ]
     },
     "execution_count": 5,
     "metadata": {},
     "output_type": "execute_result"
    }
   ],
   "source": [
    "df.tail()"
   ]
  },
  {
   "cell_type": "code",
   "execution_count": 6,
   "metadata": {},
   "outputs": [],
   "source": [
    "df = df[:-2] # drop last 2 rows"
   ]
  },
  {
   "cell_type": "code",
   "execution_count": 7,
   "metadata": {},
   "outputs": [
    {
     "data": {
      "text/html": [
       "<div>\n",
       "<style scoped>\n",
       "    .dataframe tbody tr th:only-of-type {\n",
       "        vertical-align: middle;\n",
       "    }\n",
       "\n",
       "    .dataframe tbody tr th {\n",
       "        vertical-align: top;\n",
       "    }\n",
       "\n",
       "    .dataframe thead th {\n",
       "        text-align: right;\n",
       "    }\n",
       "</style>\n",
       "<table border=\"1\" class=\"dataframe\">\n",
       "  <thead>\n",
       "    <tr style=\"text-align: right;\">\n",
       "      <th></th>\n",
       "      <th>Close Price</th>\n",
       "    </tr>\n",
       "  </thead>\n",
       "  <tbody>\n",
       "    <tr>\n",
       "      <th>count</th>\n",
       "      <td>2209.000000</td>\n",
       "    </tr>\n",
       "    <tr>\n",
       "      <th>mean</th>\n",
       "      <td>8193.823612</td>\n",
       "    </tr>\n",
       "    <tr>\n",
       "      <th>std</th>\n",
       "      <td>50.871060</td>\n",
       "    </tr>\n",
       "    <tr>\n",
       "      <th>min</th>\n",
       "      <td>8074.530000</td>\n",
       "    </tr>\n",
       "    <tr>\n",
       "      <th>25%</th>\n",
       "      <td>8147.910000</td>\n",
       "    </tr>\n",
       "    <tr>\n",
       "      <th>50%</th>\n",
       "      <td>8193.770000</td>\n",
       "    </tr>\n",
       "    <tr>\n",
       "      <th>75%</th>\n",
       "      <td>8239.370000</td>\n",
       "    </tr>\n",
       "    <tr>\n",
       "      <th>max</th>\n",
       "      <td>8294.490000</td>\n",
       "    </tr>\n",
       "  </tbody>\n",
       "</table>\n",
       "</div>"
      ],
      "text/plain": [
       "       Close Price\n",
       "count  2209.000000\n",
       "mean   8193.823612\n",
       "std      50.871060\n",
       "min    8074.530000\n",
       "25%    8147.910000\n",
       "50%    8193.770000\n",
       "75%    8239.370000\n",
       "max    8294.490000"
      ]
     },
     "execution_count": 7,
     "metadata": {},
     "output_type": "execute_result"
    }
   ],
   "source": [
    "df.describe()"
   ]
  },
  {
   "cell_type": "markdown",
   "metadata": {},
   "source": [
    "#### Question 1.1\n",
    "Study the dataset. Are there missing values? Do something about the missing values. What types are the variables in the columns?"
   ]
  },
  {
   "cell_type": "code",
   "execution_count": 8,
   "metadata": {},
   "outputs": [
    {
     "data": {
      "text/plain": [
       "Close Price    0\n",
       "dtype: int64"
      ]
     },
     "execution_count": 8,
     "metadata": {},
     "output_type": "execute_result"
    }
   ],
   "source": [
    "# taking the count of Null/NaN in each column of dataframe\n",
    "df.isnull().sum()"
   ]
  },
  {
   "cell_type": "markdown",
   "metadata": {},
   "source": [
    "### Answer\n",
    "I remove the rows that have 'NaN' data as it is a very small count and making these a '0' value might influence any further calculations"
   ]
  },
  {
   "cell_type": "code",
   "execution_count": 9,
   "metadata": {},
   "outputs": [],
   "source": [
    "df_cleaned = df.dropna(how='any')"
   ]
  },
  {
   "cell_type": "code",
   "execution_count": 10,
   "metadata": {},
   "outputs": [
    {
     "data": {
      "text/plain": [
       "Close Price    0\n",
       "dtype: int64"
      ]
     },
     "execution_count": 10,
     "metadata": {},
     "output_type": "execute_result"
    }
   ],
   "source": [
    "# taking the count of Null/NaN in each column of dataframe\n",
    "df_cleaned.isnull().sum()"
   ]
  },
  {
   "cell_type": "code",
   "execution_count": 11,
   "metadata": {},
   "outputs": [
    {
     "data": {
      "text/html": [
       "<div>\n",
       "<style scoped>\n",
       "    .dataframe tbody tr th:only-of-type {\n",
       "        vertical-align: middle;\n",
       "    }\n",
       "\n",
       "    .dataframe tbody tr th {\n",
       "        vertical-align: top;\n",
       "    }\n",
       "\n",
       "    .dataframe thead th {\n",
       "        text-align: right;\n",
       "    }\n",
       "</style>\n",
       "<table border=\"1\" class=\"dataframe\">\n",
       "  <thead>\n",
       "    <tr style=\"text-align: right;\">\n",
       "      <th></th>\n",
       "      <th>Close Price</th>\n",
       "    </tr>\n",
       "    <tr>\n",
       "      <th>Date</th>\n",
       "      <th></th>\n",
       "    </tr>\n",
       "  </thead>\n",
       "  <tbody>\n",
       "    <tr>\n",
       "      <th>2017-11-22 00:00:00</th>\n",
       "      <td>8095.59</td>\n",
       "    </tr>\n",
       "    <tr>\n",
       "      <th>2017-11-22 00:01:00</th>\n",
       "      <td>8092.53</td>\n",
       "    </tr>\n",
       "    <tr>\n",
       "      <th>2017-11-22 00:02:00</th>\n",
       "      <td>8088.07</td>\n",
       "    </tr>\n",
       "    <tr>\n",
       "      <th>2017-11-22 00:03:00</th>\n",
       "      <td>8086.57</td>\n",
       "    </tr>\n",
       "    <tr>\n",
       "      <th>2017-11-22 00:04:00</th>\n",
       "      <td>8087.55</td>\n",
       "    </tr>\n",
       "  </tbody>\n",
       "</table>\n",
       "</div>"
      ],
      "text/plain": [
       "                     Close Price\n",
       "Date                            \n",
       "2017-11-22 00:00:00      8095.59\n",
       "2017-11-22 00:01:00      8092.53\n",
       "2017-11-22 00:02:00      8088.07\n",
       "2017-11-22 00:03:00      8086.57\n",
       "2017-11-22 00:04:00      8087.55"
      ]
     },
     "execution_count": 11,
     "metadata": {},
     "output_type": "execute_result"
    }
   ],
   "source": [
    "df_cleaned.head()"
   ]
  },
  {
   "cell_type": "code",
   "execution_count": 12,
   "metadata": {},
   "outputs": [
    {
     "data": {
      "text/html": [
       "<div>\n",
       "<style scoped>\n",
       "    .dataframe tbody tr th:only-of-type {\n",
       "        vertical-align: middle;\n",
       "    }\n",
       "\n",
       "    .dataframe tbody tr th {\n",
       "        vertical-align: top;\n",
       "    }\n",
       "\n",
       "    .dataframe thead th {\n",
       "        text-align: right;\n",
       "    }\n",
       "</style>\n",
       "<table border=\"1\" class=\"dataframe\">\n",
       "  <thead>\n",
       "    <tr style=\"text-align: right;\">\n",
       "      <th></th>\n",
       "      <th>Close Price</th>\n",
       "    </tr>\n",
       "    <tr>\n",
       "      <th>Date</th>\n",
       "      <th></th>\n",
       "    </tr>\n",
       "  </thead>\n",
       "  <tbody>\n",
       "    <tr>\n",
       "      <th>2017-11-22 00:00:00</th>\n",
       "      <td>8095.59</td>\n",
       "    </tr>\n",
       "    <tr>\n",
       "      <th>2017-11-22 00:01:00</th>\n",
       "      <td>8092.53</td>\n",
       "    </tr>\n",
       "    <tr>\n",
       "      <th>2017-11-22 00:02:00</th>\n",
       "      <td>8088.07</td>\n",
       "    </tr>\n",
       "    <tr>\n",
       "      <th>2017-11-22 00:03:00</th>\n",
       "      <td>8086.57</td>\n",
       "    </tr>\n",
       "    <tr>\n",
       "      <th>2017-11-22 00:04:00</th>\n",
       "      <td>8087.55</td>\n",
       "    </tr>\n",
       "    <tr>\n",
       "      <th>2017-11-22 00:05:00</th>\n",
       "      <td>8089.47</td>\n",
       "    </tr>\n",
       "    <tr>\n",
       "      <th>2017-11-22 00:06:00</th>\n",
       "      <td>8093.81</td>\n",
       "    </tr>\n",
       "    <tr>\n",
       "      <th>2017-11-22 00:07:00</th>\n",
       "      <td>8102.10</td>\n",
       "    </tr>\n",
       "    <tr>\n",
       "      <th>2017-11-22 00:08:00</th>\n",
       "      <td>8106.14</td>\n",
       "    </tr>\n",
       "    <tr>\n",
       "      <th>2017-11-22 00:09:00</th>\n",
       "      <td>8110.84</td>\n",
       "    </tr>\n",
       "    <tr>\n",
       "      <th>2017-11-22 00:10:00</th>\n",
       "      <td>8106.04</td>\n",
       "    </tr>\n",
       "    <tr>\n",
       "      <th>2017-11-22 00:11:00</th>\n",
       "      <td>8105.19</td>\n",
       "    </tr>\n",
       "    <tr>\n",
       "      <th>2017-11-22 00:12:00</th>\n",
       "      <td>8106.85</td>\n",
       "    </tr>\n",
       "    <tr>\n",
       "      <th>2017-11-22 00:13:00</th>\n",
       "      <td>8109.37</td>\n",
       "    </tr>\n",
       "    <tr>\n",
       "      <th>2017-11-22 00:14:00</th>\n",
       "      <td>8111.94</td>\n",
       "    </tr>\n",
       "    <tr>\n",
       "      <th>2017-11-22 00:15:00</th>\n",
       "      <td>8115.33</td>\n",
       "    </tr>\n",
       "    <tr>\n",
       "      <th>2017-11-22 00:16:00</th>\n",
       "      <td>8115.88</td>\n",
       "    </tr>\n",
       "    <tr>\n",
       "      <th>2017-11-22 00:17:00</th>\n",
       "      <td>8118.17</td>\n",
       "    </tr>\n",
       "    <tr>\n",
       "      <th>2017-11-22 00:18:00</th>\n",
       "      <td>8119.76</td>\n",
       "    </tr>\n",
       "    <tr>\n",
       "      <th>2017-11-22 00:19:00</th>\n",
       "      <td>8120.08</td>\n",
       "    </tr>\n",
       "    <tr>\n",
       "      <th>2017-11-22 00:20:00</th>\n",
       "      <td>8131.64</td>\n",
       "    </tr>\n",
       "    <tr>\n",
       "      <th>2017-11-22 00:21:00</th>\n",
       "      <td>8138.40</td>\n",
       "    </tr>\n",
       "    <tr>\n",
       "      <th>2017-11-22 00:22:00</th>\n",
       "      <td>8137.72</td>\n",
       "    </tr>\n",
       "    <tr>\n",
       "      <th>2017-11-22 00:23:00</th>\n",
       "      <td>8145.78</td>\n",
       "    </tr>\n",
       "    <tr>\n",
       "      <th>2017-11-22 00:24:00</th>\n",
       "      <td>8152.83</td>\n",
       "    </tr>\n",
       "    <tr>\n",
       "      <th>2017-11-22 00:25:00</th>\n",
       "      <td>8153.63</td>\n",
       "    </tr>\n",
       "    <tr>\n",
       "      <th>2017-11-22 00:26:00</th>\n",
       "      <td>8160.64</td>\n",
       "    </tr>\n",
       "    <tr>\n",
       "      <th>2017-11-22 00:27:00</th>\n",
       "      <td>8164.79</td>\n",
       "    </tr>\n",
       "    <tr>\n",
       "      <th>2017-11-22 00:28:00</th>\n",
       "      <td>8166.94</td>\n",
       "    </tr>\n",
       "    <tr>\n",
       "      <th>2017-11-22 00:29:00</th>\n",
       "      <td>8166.04</td>\n",
       "    </tr>\n",
       "    <tr>\n",
       "      <th>...</th>\n",
       "      <td>...</td>\n",
       "    </tr>\n",
       "    <tr>\n",
       "      <th>2017-11-23 12:20:00</th>\n",
       "      <td>8141.68</td>\n",
       "    </tr>\n",
       "    <tr>\n",
       "      <th>2017-11-23 12:21:00</th>\n",
       "      <td>8142.95</td>\n",
       "    </tr>\n",
       "    <tr>\n",
       "      <th>2017-11-23 12:22:00</th>\n",
       "      <td>8142.79</td>\n",
       "    </tr>\n",
       "    <tr>\n",
       "      <th>2017-11-23 12:23:00</th>\n",
       "      <td>8142.67</td>\n",
       "    </tr>\n",
       "    <tr>\n",
       "      <th>2017-11-23 12:24:00</th>\n",
       "      <td>8144.18</td>\n",
       "    </tr>\n",
       "    <tr>\n",
       "      <th>2017-11-23 12:25:00</th>\n",
       "      <td>8143.65</td>\n",
       "    </tr>\n",
       "    <tr>\n",
       "      <th>2017-11-23 12:26:00</th>\n",
       "      <td>8140.45</td>\n",
       "    </tr>\n",
       "    <tr>\n",
       "      <th>2017-11-23 12:27:00</th>\n",
       "      <td>8144.49</td>\n",
       "    </tr>\n",
       "    <tr>\n",
       "      <th>2017-11-23 12:28:00</th>\n",
       "      <td>8149.20</td>\n",
       "    </tr>\n",
       "    <tr>\n",
       "      <th>2017-11-23 12:29:00</th>\n",
       "      <td>8153.95</td>\n",
       "    </tr>\n",
       "    <tr>\n",
       "      <th>2017-11-23 12:30:00</th>\n",
       "      <td>8154.13</td>\n",
       "    </tr>\n",
       "    <tr>\n",
       "      <th>2017-11-23 12:31:00</th>\n",
       "      <td>8153.96</td>\n",
       "    </tr>\n",
       "    <tr>\n",
       "      <th>2017-11-23 12:32:00</th>\n",
       "      <td>8157.25</td>\n",
       "    </tr>\n",
       "    <tr>\n",
       "      <th>2017-11-23 12:33:00</th>\n",
       "      <td>8157.50</td>\n",
       "    </tr>\n",
       "    <tr>\n",
       "      <th>2017-11-23 12:34:00</th>\n",
       "      <td>8158.26</td>\n",
       "    </tr>\n",
       "    <tr>\n",
       "      <th>2017-11-23 12:35:00</th>\n",
       "      <td>8158.64</td>\n",
       "    </tr>\n",
       "    <tr>\n",
       "      <th>2017-11-23 12:36:00</th>\n",
       "      <td>8159.38</td>\n",
       "    </tr>\n",
       "    <tr>\n",
       "      <th>2017-11-23 12:37:00</th>\n",
       "      <td>8160.59</td>\n",
       "    </tr>\n",
       "    <tr>\n",
       "      <th>2017-11-23 12:38:00</th>\n",
       "      <td>8159.12</td>\n",
       "    </tr>\n",
       "    <tr>\n",
       "      <th>2017-11-23 12:39:00</th>\n",
       "      <td>8159.46</td>\n",
       "    </tr>\n",
       "    <tr>\n",
       "      <th>2017-11-23 12:40:00</th>\n",
       "      <td>8159.06</td>\n",
       "    </tr>\n",
       "    <tr>\n",
       "      <th>2017-11-23 12:41:00</th>\n",
       "      <td>8158.93</td>\n",
       "    </tr>\n",
       "    <tr>\n",
       "      <th>2017-11-23 12:42:00</th>\n",
       "      <td>8159.81</td>\n",
       "    </tr>\n",
       "    <tr>\n",
       "      <th>2017-11-23 12:43:00</th>\n",
       "      <td>8162.27</td>\n",
       "    </tr>\n",
       "    <tr>\n",
       "      <th>2017-11-23 12:44:00</th>\n",
       "      <td>8167.73</td>\n",
       "    </tr>\n",
       "    <tr>\n",
       "      <th>2017-11-23 12:45:00</th>\n",
       "      <td>8168.38</td>\n",
       "    </tr>\n",
       "    <tr>\n",
       "      <th>2017-11-23 12:46:00</th>\n",
       "      <td>8170.24</td>\n",
       "    </tr>\n",
       "    <tr>\n",
       "      <th>2017-11-23 12:47:00</th>\n",
       "      <td>8169.01</td>\n",
       "    </tr>\n",
       "    <tr>\n",
       "      <th>2017-11-23 12:48:00</th>\n",
       "      <td>8172.60</td>\n",
       "    </tr>\n",
       "    <tr>\n",
       "      <th>2017-11-23 12:49:00</th>\n",
       "      <td>8174.09</td>\n",
       "    </tr>\n",
       "  </tbody>\n",
       "</table>\n",
       "<p>2209 rows × 1 columns</p>\n",
       "</div>"
      ],
      "text/plain": [
       "                     Close Price\n",
       "Date                            \n",
       "2017-11-22 00:00:00      8095.59\n",
       "2017-11-22 00:01:00      8092.53\n",
       "2017-11-22 00:02:00      8088.07\n",
       "2017-11-22 00:03:00      8086.57\n",
       "2017-11-22 00:04:00      8087.55\n",
       "2017-11-22 00:05:00      8089.47\n",
       "2017-11-22 00:06:00      8093.81\n",
       "2017-11-22 00:07:00      8102.10\n",
       "2017-11-22 00:08:00      8106.14\n",
       "2017-11-22 00:09:00      8110.84\n",
       "2017-11-22 00:10:00      8106.04\n",
       "2017-11-22 00:11:00      8105.19\n",
       "2017-11-22 00:12:00      8106.85\n",
       "2017-11-22 00:13:00      8109.37\n",
       "2017-11-22 00:14:00      8111.94\n",
       "2017-11-22 00:15:00      8115.33\n",
       "2017-11-22 00:16:00      8115.88\n",
       "2017-11-22 00:17:00      8118.17\n",
       "2017-11-22 00:18:00      8119.76\n",
       "2017-11-22 00:19:00      8120.08\n",
       "2017-11-22 00:20:00      8131.64\n",
       "2017-11-22 00:21:00      8138.40\n",
       "2017-11-22 00:22:00      8137.72\n",
       "2017-11-22 00:23:00      8145.78\n",
       "2017-11-22 00:24:00      8152.83\n",
       "2017-11-22 00:25:00      8153.63\n",
       "2017-11-22 00:26:00      8160.64\n",
       "2017-11-22 00:27:00      8164.79\n",
       "2017-11-22 00:28:00      8166.94\n",
       "2017-11-22 00:29:00      8166.04\n",
       "...                          ...\n",
       "2017-11-23 12:20:00      8141.68\n",
       "2017-11-23 12:21:00      8142.95\n",
       "2017-11-23 12:22:00      8142.79\n",
       "2017-11-23 12:23:00      8142.67\n",
       "2017-11-23 12:24:00      8144.18\n",
       "2017-11-23 12:25:00      8143.65\n",
       "2017-11-23 12:26:00      8140.45\n",
       "2017-11-23 12:27:00      8144.49\n",
       "2017-11-23 12:28:00      8149.20\n",
       "2017-11-23 12:29:00      8153.95\n",
       "2017-11-23 12:30:00      8154.13\n",
       "2017-11-23 12:31:00      8153.96\n",
       "2017-11-23 12:32:00      8157.25\n",
       "2017-11-23 12:33:00      8157.50\n",
       "2017-11-23 12:34:00      8158.26\n",
       "2017-11-23 12:35:00      8158.64\n",
       "2017-11-23 12:36:00      8159.38\n",
       "2017-11-23 12:37:00      8160.59\n",
       "2017-11-23 12:38:00      8159.12\n",
       "2017-11-23 12:39:00      8159.46\n",
       "2017-11-23 12:40:00      8159.06\n",
       "2017-11-23 12:41:00      8158.93\n",
       "2017-11-23 12:42:00      8159.81\n",
       "2017-11-23 12:43:00      8162.27\n",
       "2017-11-23 12:44:00      8167.73\n",
       "2017-11-23 12:45:00      8168.38\n",
       "2017-11-23 12:46:00      8170.24\n",
       "2017-11-23 12:47:00      8169.01\n",
       "2017-11-23 12:48:00      8172.60\n",
       "2017-11-23 12:49:00      8174.09\n",
       "\n",
       "[2209 rows x 1 columns]"
      ]
     },
     "execution_count": 12,
     "metadata": {},
     "output_type": "execute_result"
    }
   ],
   "source": [
    "df_cleaned"
   ]
  },
  {
   "cell_type": "markdown",
   "metadata": {},
   "source": [
    "#### Question 1.2\n",
    "Produce a line graph of the data on Bitcoin."
   ]
  },
  {
   "cell_type": "code",
   "execution_count": 15,
   "metadata": {},
   "outputs": [],
   "source": [
    "#df = pd.to_datetime(df['Date'], format='%Y%m%d', errors='ignore')"
   ]
  },
  {
   "cell_type": "code",
   "execution_count": 14,
   "metadata": {},
   "outputs": [
    {
     "data": {
      "text/plain": [
       "<matplotlib.axes._subplots.AxesSubplot at 0xd181be0>"
      ]
     },
     "execution_count": 14,
     "metadata": {},
     "output_type": "execute_result"
    },
    {
     "data": {
      "image/png": "[encoded data removed]",
      "text/plain": [
       "<matplotlib.figure.Figure at 0xd1815c0>"
      ]
     },
     "metadata": {},
     "output_type": "display_data"
    }
   ],
   "source": [
    "df_cleaned.plot(y='Close Price', figsize=(10,5))"
   ]
  },
  {
   "cell_type": "markdown",
   "metadata": {},
   "source": [
    "#### Question 1.3\n",
    "\n",
    "Sample from the dataset using simple random sampling. Calculate the mean and standard deviation of each sample. Use it to calculate 95% confidence intervals."
   ]
  },
  {
   "cell_type": "code",
   "execution_count": 17,
   "metadata": {},
   "outputs": [],
   "source": [
    "samples = []\n",
    "n = 500   # number of samples\n",
    "j = 1  # size of each sample\n",
    "for i in range(n):\n",
    "    samples.append(rnd.sample(df_cleaned['Close Price'].tolist(), k=j)) # take 500 samples from the Height and Weight dataset, each size 5000"
   ]
  },
  {
   "cell_type": "code",
   "execution_count": 27,
   "metadata": {},
   "outputs": [],
   "source": [
    "means = [np.asarray(i).mean() for i in samples]"
   ]
  },
  {
   "cell_type": "code",
   "execution_count": 28,
   "metadata": {},
   "outputs": [],
   "source": [
    "devis = [np.asarray(i).std() for i in samples]"
   ]
  },
  {
   "cell_type": "code",
   "execution_count": 29,
   "metadata": {},
   "outputs": [
    {
     "data": {
      "text/plain": [
       "500"
      ]
     },
     "execution_count": 29,
     "metadata": {},
     "output_type": "execute_result"
    }
   ],
   "source": [
    "len(means)"
   ]
  },
  {
   "cell_type": "code",
   "execution_count": 33,
   "metadata": {},
   "outputs": [
    {
     "name": "stdout",
     "output_type": "stream",
     "text": [
      "8193.4179\n",
      "[0.0, 0.0, 0.0, 0.0, 0.0, 0.0, 0.0, 0.0, 0.0, 0.0, 0.0, 0.0, 0.0, 0.0, 0.0, 0.0, 0.0, 0.0, 0.0, 0.0, 0.0, 0.0, 0.0, 0.0, 0.0, 0.0, 0.0, 0.0, 0.0, 0.0, 0.0, 0.0, 0.0, 0.0, 0.0, 0.0, 0.0, 0.0, 0.0, 0.0, 0.0, 0.0, 0.0, 0.0, 0.0, 0.0, 0.0, 0.0, 0.0, 0.0, 0.0, 0.0, 0.0, 0.0, 0.0, 0.0, 0.0, 0.0, 0.0, 0.0, 0.0, 0.0, 0.0, 0.0, 0.0, 0.0, 0.0, 0.0, 0.0, 0.0, 0.0, 0.0, 0.0, 0.0, 0.0, 0.0, 0.0, 0.0, 0.0, 0.0, 0.0, 0.0, 0.0, 0.0, 0.0, 0.0, 0.0, 0.0, 0.0, 0.0, 0.0, 0.0, 0.0, 0.0, 0.0, 0.0, 0.0, 0.0, 0.0, 0.0, 0.0, 0.0, 0.0, 0.0, 0.0, 0.0, 0.0, 0.0, 0.0, 0.0, 0.0, 0.0, 0.0, 0.0, 0.0, 0.0, 0.0, 0.0, 0.0, 0.0, 0.0, 0.0, 0.0, 0.0, 0.0, 0.0, 0.0, 0.0, 0.0, 0.0, 0.0, 0.0, 0.0, 0.0, 0.0, 0.0, 0.0, 0.0, 0.0, 0.0, 0.0, 0.0, 0.0, 0.0, 0.0, 0.0, 0.0, 0.0, 0.0, 0.0, 0.0, 0.0, 0.0, 0.0, 0.0, 0.0, 0.0, 0.0, 0.0, 0.0, 0.0, 0.0, 0.0, 0.0, 0.0, 0.0, 0.0, 0.0, 0.0, 0.0, 0.0, 0.0, 0.0, 0.0, 0.0, 0.0, 0.0, 0.0, 0.0, 0.0, 0.0, 0.0, 0.0, 0.0, 0.0, 0.0, 0.0, 0.0, 0.0, 0.0, 0.0, 0.0, 0.0, 0.0, 0.0, 0.0, 0.0, 0.0, 0.0, 0.0, 0.0, 0.0, 0.0, 0.0, 0.0, 0.0, 0.0, 0.0, 0.0, 0.0, 0.0, 0.0, 0.0, 0.0, 0.0, 0.0, 0.0, 0.0, 0.0, 0.0, 0.0, 0.0, 0.0, 0.0, 0.0, 0.0, 0.0, 0.0, 0.0, 0.0, 0.0, 0.0, 0.0, 0.0, 0.0, 0.0, 0.0, 0.0, 0.0, 0.0, 0.0, 0.0, 0.0, 0.0, 0.0, 0.0, 0.0, 0.0, 0.0, 0.0, 0.0, 0.0, 0.0, 0.0, 0.0, 0.0, 0.0, 0.0, 0.0, 0.0, 0.0, 0.0, 0.0, 0.0, 0.0, 0.0, 0.0, 0.0, 0.0, 0.0, 0.0, 0.0, 0.0, 0.0, 0.0, 0.0, 0.0, 0.0, 0.0, 0.0, 0.0, 0.0, 0.0, 0.0, 0.0, 0.0, 0.0, 0.0, 0.0, 0.0, 0.0, 0.0, 0.0, 0.0, 0.0, 0.0, 0.0, 0.0, 0.0, 0.0, 0.0, 0.0, 0.0, 0.0, 0.0, 0.0, 0.0, 0.0, 0.0, 0.0, 0.0, 0.0, 0.0, 0.0, 0.0, 0.0, 0.0, 0.0, 0.0, 0.0, 0.0, 0.0, 0.0, 0.0, 0.0, 0.0, 0.0, 0.0, 0.0, 0.0, 0.0, 0.0, 0.0, 0.0, 0.0, 0.0, 0.0, 0.0, 0.0, 0.0, 0.0, 0.0, 0.0, 0.0, 0.0, 0.0, 0.0, 0.0, 0.0, 0.0, 0.0, 0.0, 0.0, 0.0, 0.0, 0.0, 0.0, 0.0, 0.0, 0.0, 0.0, 0.0, 0.0, 0.0, 0.0, 0.0, 0.0, 0.0, 0.0, 0.0, 0.0, 0.0, 0.0, 0.0, 0.0, 0.0, 0.0, 0.0, 0.0, 0.0, 0.0, 0.0, 0.0, 0.0, 0.0, 0.0, 0.0, 0.0, 0.0, 0.0, 0.0, 0.0, 0.0, 0.0, 0.0, 0.0, 0.0, 0.0, 0.0, 0.0, 0.0, 0.0, 0.0, 0.0, 0.0, 0.0, 0.0, 0.0, 0.0, 0.0, 0.0, 0.0, 0.0, 0.0, 0.0, 0.0, 0.0, 0.0, 0.0, 0.0, 0.0, 0.0, 0.0, 0.0, 0.0, 0.0, 0.0, 0.0, 0.0, 0.0, 0.0, 0.0, 0.0, 0.0, 0.0, 0.0, 0.0, 0.0, 0.0, 0.0, 0.0, 0.0, 0.0, 0.0, 0.0, 0.0, 0.0, 0.0, 0.0, 0.0, 0.0, 0.0, 0.0, 0.0, 0.0, 0.0, 0.0, 0.0, 0.0, 0.0, 0.0, 0.0, 0.0, 0.0, 0.0, 0.0, 0.0, 0.0, 0.0, 0.0, 0.0, 0.0, 0.0, 0.0, 0.0, 0.0, 0.0, 0.0, 0.0, 0.0, 0.0, 0.0, 0.0, 0.0, 0.0, 0.0, 0.0, 0.0, 0.0, 0.0, 0.0, 0.0, 0.0, 0.0, 0.0, 0.0, 0.0, 0.0, 0.0, 0.0]\n"
     ]
    }
   ],
   "source": [
    "#print(means)\n",
    "mean = np.mean(samples)\n",
    "print(mean)\n",
    "sigma = np.std(samples)\n",
    "print(devis)"
   ]
  },
  {
   "cell_type": "code",
   "execution_count": 34,
   "metadata": {},
   "outputs": [],
   "source": [
    "conf_int = stats.norm.interval(0.95,       # confidence level\n",
    "                               loc=mean,   # mean\n",
    "                               scale=sigma/sqrt(n))# error"
   ]
  },
  {
   "cell_type": "code",
   "execution_count": 35,
   "metadata": {},
   "outputs": [
    {
     "data": {
      "text/plain": [
       "(8189.0858310477615, 8197.74996895224)"
      ]
     },
     "execution_count": 35,
     "metadata": {},
     "output_type": "execute_result"
    }
   ],
   "source": [
    "conf_int"
   ]
  },
  {
   "cell_type": "markdown",
   "metadata": {},
   "source": [
    "#### Question 1.3\n",
    "Plot these confidence intervals using an error bar plot. Discuss the results your observe."
   ]
  },
  {
   "cell_type": "code",
   "execution_count": 36,
   "metadata": {},
   "outputs": [
    {
     "data": {
      "text/plain": [
       "[(8180.828798679153, 8219.576001320844),\n",
       " (8190.233998679156, 8228.981201320847),\n",
       " (8170.781998679154, 8209.529201320844),\n",
       " (8167.353998679155, 8206.101201320846),\n",
       " (8170.308398679154, 8209.055601320844),\n",
       " (8163.446398679153, 8202.193601320843),\n",
       " (8174.415198679157, 8213.162401320847),\n",
       " (8182.707598679155, 8221.454801320846),\n",
       " (8188.444798679155, 8227.192001320846),\n",
       " (8177.256798679155, 8216.004001320845)]"
      ]
     },
     "execution_count": 36,
     "metadata": {},
     "output_type": "execute_result"
    }
   ],
   "source": [
    "intervals = []    # confidence intervals \n",
    "sample_means = []\n",
    "for i in range(0,10):\n",
    "    sample = np.random.choice(df['Close Price'], size=25)  # take a random sample of size 25 from data\n",
    "    sample_means.append(np.mean(sample))          # compute the sample mean \n",
    "    deviation = sigma / sqrt(len(sample))              # compute part sigma/sqrt(n)\n",
    "    intervals.append(stats.norm.interval(.95, loc=np.mean(sample), scale=deviation)) # compute the confidence interval\n",
    "intervals"
   ]
  },
  {
   "cell_type": "code",
   "execution_count": 37,
   "metadata": {},
   "outputs": [],
   "source": [
    "yerr = []\n",
    "for i in intervals:\n",
    "    yerr.append(i[1] - i[0]) # now have two separate numbers"
   ]
  },
  {
   "cell_type": "code",
   "execution_count": 38,
   "metadata": {},
   "outputs": [
    {
     "data": {
      "text/plain": [
       "<matplotlib.collections.LineCollection at 0xd552d30>"
      ]
     },
     "execution_count": 38,
     "metadata": {},
     "output_type": "execute_result"
    },
    {
     "data": {
      "image/png": "[encoded data removed]",
      "text/plain": [
       "<matplotlib.figure.Figure at 0xd5bc0f0>"
      ]
     },
     "metadata": {},
     "output_type": "display_data"
    }
   ],
   "source": [
    "plt.figure(figsize=(10,9))\n",
    "plt.errorbar(x=np.arange(0,10), \n",
    "             y=sample_means,\n",
    "             yerr=yerr,\n",
    "            fmt = 'o')\n",
    "plt.xlabel('Sample nr.')\n",
    "plt.ylabel('Mean, CI')\n",
    "plt.hlines(xmin=0, xmax=10,\n",
    "           y=mean, \n",
    "           linewidth=2.0,\n",
    "           color=\"red\")\n",
    "\n",
    "#plt.errorbar([0,1,2,3], data_m, yerr=ss.t.ppf(0.95, data_df)*data_sd)"
   ]
  },
  {
   "cell_type": "markdown",
   "metadata": {
    "collapsed": true
   },
   "source": [
    "### Question 2\n",
    "\n",
    "When we know the sample size is small and the variance is unknown we can use a t-test to test our hypothesis about the test-statistic. We can estimate the standard deviation from the sample size and proceed to test our hypothesis. The average life of 6 car batteries is 30 months with a standard deviation of 4 months. The manufacturer claims an average life of 3 years for his batteries. We suspect that he is exaggerating. Use a 5% significance level to test his claim.\n",
    "\n",
    "Question courtesy of [The Average Car Battery Life: When Is It Time for a Change?](http://knowhow.napaonline.com/average-car-battery-life-time-change/)."
   ]
  },
  {
   "cell_type": "code",
   "execution_count": null,
   "metadata": {
    "collapsed": true
   },
   "outputs": [],
   "source": []
  },
  {
   "cell_type": "code",
   "execution_count": null,
   "metadata": {
    "collapsed": true
   },
   "outputs": [],
   "source": [
    "### Question 3"
   ]
  }
 ],
 "metadata": {
  "kernelspec": {
   "display_name": "Python 3",
   "language": "python",
   "name": "python3"
  },
  "language_info": {
   "codemirror_mode": {
    "name": "ipython",
    "version": 3
   },
   "file_extension": ".py",
   "mimetype": "text/x-python",
   "name": "python",
   "nbconvert_exporter": "python",
   "pygments_lexer": "ipython3",
   "version": "3.6.4"
  }
 },
 "nbformat": 4,
 "nbformat_minor": 2
}
